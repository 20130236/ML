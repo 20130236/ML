{
  "nbformat": 4,
  "nbformat_minor": 0,
  "metadata": {
    "colab": {
      "provenance": [],
      "toc_visible": true,
      "authorship_tag": "ABX9TyNGblS+4UgGZfLy2cfBEwRs",
      "include_colab_link": true
    },
    "kernelspec": {
      "name": "python3",
      "display_name": "Python 3"
    },
    "language_info": {
      "name": "python"
    }
  },
  "cells": [
    {
      "cell_type": "markdown",
      "metadata": {
        "id": "view-in-github",
        "colab_type": "text"
      },
      "source": [
        "<a href=\"https://colab.research.google.com/github/20130236/ML/blob/main/Lab1_20130236_L%C3%AA_%C4%90%C3%ACnh_Qu%E1%BB%91c_D%C5%A9ng.ipynb\" target=\"_parent\"><img src=\"https://colab.research.google.com/assets/colab-badge.svg\" alt=\"Open In Colab\"/></a>"
      ]
    },
    {
      "cell_type": "markdown",
      "source": [
        "task 1.1:\n",
        " Develop a Python program to perform the following tasks:\n",
        "– Input an integer number n.\n",
        "\n",
        "*   Input n integer numbers x1, x2,..., xn and append them into a list L.\n",
        "*   Find the max/min element in L.\n",
        "*   Compute the sum of elements in L.\n",
        "*   Sort the list L in ascending order.\n",
        "*   Show how many positive and negative numbers are in the list L.\n"
      ],
      "metadata": {
        "id": "IiLFSSSaaqw1"
      }
    },
    {
      "cell_type": "code",
      "source": [
        "import numpy as np\n",
        "n = int(input(\"n=\"))\n",
        "arr = []\n",
        "for i in range(n):\n",
        "    arr.append(int(input(\"number =\")))\n",
        "\n",
        "print(arr)\n",
        "maxNum = np.max(arr)\n",
        "print(\"max = \" + str(maxNum))\n",
        "minNum = np.min(arr)\n",
        "print(\"min = \" + str(minNum))\n",
        "sumNum = np.sum(arr)\n",
        "print(\"sum = \" + str(sumNum))\n",
        "sortArr = np.sort(arr)\n",
        "print(sortArr)\n",
        "posNum = 0\n",
        "negNum = 0\n",
        "for j in arr :\n",
        "  if j>=0 :posNum=posNum + 1\n",
        "  else :negNum = negNum + 1\n",
        "\n",
        "print(\"posNum=\" + str(posNum))\n",
        "print(\"negNum=\" + str(negNum))\n"
      ],
      "metadata": {
        "id": "qFoUn43sasu9",
        "colab": {
          "base_uri": "https://localhost:8080/"
        },
        "outputId": "3bdb877c-5c40-45c4-be74-b9efe1af554b"
      },
      "execution_count": 13,
      "outputs": [
        {
          "output_type": "stream",
          "name": "stdout",
          "text": [
            "n=3\n",
            "number =1\n",
            "number =4\n",
            "number =-3\n",
            "[1, 4, -3]\n",
            "max = 4\n",
            "min = -3\n",
            "sum = 2\n",
            "[-3  1  4]\n",
            "posNum=2\n",
            "negNum=1\n"
          ]
        }
      ]
    },
    {
      "cell_type": "markdown",
      "source": [
        "Task 1.2. Develop a Python program to compute Sn as follows:\n",
        "𝑆𝑛 = 1 + 1/3 + 1/5 + ⋯ + 1/2𝑛 + 1"
      ],
      "metadata": {
        "id": "C-Uq8MbrbWv-"
      }
    },
    {
      "cell_type": "code",
      "source": [
        "\n",
        "sum = 0\n",
        "n = int(input(\"n=\")) \n",
        "for i in range(n):\n",
        "    sum += 1/(2*i+1)\n",
        "\n",
        "print(\"sum=\" + str(sum))"
      ],
      "metadata": {
        "id": "t9cQUp49bXCv",
        "colab": {
          "base_uri": "https://localhost:8080/"
        },
        "outputId": "73132e19-8085-4656-950d-7dfe69c8e05d"
      },
      "execution_count": 30,
      "outputs": [
        {
          "output_type": "stream",
          "name": "stdout",
          "text": [
            "n=10\n",
            "sum=2.1332555301595546\n"
          ]
        }
      ]
    },
    {
      "cell_type": "markdown",
      "source": [
        "Task 1.3. For a given class diagram as follows:\n"
      ],
      "metadata": {
        "id": "jh_8bbVTbrPV"
      }
    },
    {
      "cell_type": "code",
      "source": [
        "class Product:\n",
        "    def __init__(self, name, type, price, expiredDate):\n",
        "        self.__name = name\n",
        "        self.__type = type\n",
        "        self.__price = price\n",
        "        self.__expiredDate = expiredDate\n",
        "\n",
        "    def __str__(self):\n",
        "        return self.__name + \" \" + self.__type + \" \" + str(self.__price) + \" \" + self.__expiredDate\n",
        "\n",
        "    def get_price(self):\n",
        "        return self.__price\n",
        "\n",
        "class OrderItem:\n",
        "    def __init__(self, product, amount):\n",
        "        self.product = product\n",
        "        self.amount = amount\n",
        "\n",
        "    def get_product(self):\n",
        "        return self.product\n",
        "\n",
        "    def __str__(self):\n",
        "        return self.product.__str__() + \" \" + str(self.amount)\n",
        "\n",
        "class Order:\n",
        "    def __init__(self, id, customer, employee, date, orderItem = []):\n",
        "        self.id = id\n",
        "        self.customer = customer\n",
        "        self.employee = employee\n",
        "        self.date = date\n",
        "        self.orderItem = orderItem\n",
        "\n",
        "    def get_orderItem(self):\n",
        "        return self.orderItem\n",
        "\n",
        "    def __str__(self):\n",
        "        return format(self.id) + \" \" + self.customer + \" \" + self.employee + \" \" + self.date + \" \" + self.orderItem.__str__()\n",
        "\n",
        "class OrderManger:\n",
        "    def __init__(self, listOrder = []):\n",
        "        self.listOrder = listOrder\n",
        "\n",
        "    def highestPriceProduct(self):\n",
        "        highestPrice = 0\n",
        "        for i in self.listOrder:\n",
        "            for j in i:\n",
        "                if j.product.price > highestPrice:\n",
        "                    highestPrice = j.product.price\n",
        "        return highestPrice\n",
        "\n",
        "    def showNumOfProBoughtByEachType(self):\n",
        "        results = {\n",
        "            \"numberOfPro\": 0,\n",
        "            \"typeOfPro\": \"\"\n",
        "        }\n",
        "        for i in self.listOrder:\n",
        "            for j in i:\n",
        "                results.pop(1, j.product.type)\n",
        "        return results\n",
        "\n",
        "    def __str__(self):\n",
        "        return self.listOrder.__str__()\n",
        "\n",
        "p1 = Product(\"giường\", \"phòng ngủ\", 200000, \"1-2-2023\")\n",
        "p2 = Product(\"bàn ăn\", \"phòng ăn\", 100000, \"1-3-2023\")\n",
        "p3 = Product(\"ghế sofa\", \"phòng khách\", 250000, \"1-5-2025\")\n",
        "\n",
        "listOrderItem = []\n",
        "orderItem1 = OrderItem(p1, 2)\n",
        "orderItem2 = OrderItem(p2, 2)\n",
        "orderItem3 = OrderItem(p3, 5)\n",
        "\n",
        "listOrderItem.append(orderItem1)\n",
        "listOrderItem.append(orderItem2)\n",
        "listOrderItem.append(orderItem3)\n",
        "\n",
        "order1 = Order(1, \"nguyen van a\", \"hoang thi b\", \"20-1-2024\", listOrderItem)\n",
        "\n",
        "listOrder = [order1]\n",
        "orderManger = OrderManger(listOrder)\n",
        "print(str(orderManger.highestPriceProduct))"
      ],
      "metadata": {
        "id": "tKQKVRDTbrW3",
        "colab": {
          "base_uri": "https://localhost:8080/"
        },
        "outputId": "bace5bac-52ab-4d5a-cc34-45c9cecef0e7"
      },
      "execution_count": 32,
      "outputs": [
        {
          "output_type": "stream",
          "name": "stdout",
          "text": [
            "<bound method OrderManger.highestPriceProduct of <__main__.OrderManger object at 0x7f1a2e67beb0>>\n"
          ]
        }
      ]
    },
    {
      "cell_type": "markdown",
      "source": [
        "Task 2.1 Develop a NumPy program to create an array with values ranging from 10 to 25, \n",
        "then reverse the array (the first element becomes last)"
      ],
      "metadata": {
        "id": "y-gjzfdOcQrz"
      }
    },
    {
      "cell_type": "code",
      "source": [
        "arr = np.arange(10, 26, 1)\n",
        "print(\"arr=\" , arr)\n",
        "print(\"reverse arr =\" , np.flip(arr))"
      ],
      "metadata": {
        "colab": {
          "base_uri": "https://localhost:8080/"
        },
        "id": "Y1gkHOgRcQ4y",
        "outputId": "1689aecb-a072-477d-ae09-0a7524e0445a"
      },
      "execution_count": 35,
      "outputs": [
        {
          "output_type": "stream",
          "name": "stdout",
          "text": [
            "arr= [10 11 12 13 14 15 16 17 18 19 20 21 22 23 24 25]\n",
            "reverse arr = [25 24 23 22 21 20 19 18 17 16 15 14 13 12 11 10]\n"
          ]
        }
      ]
    },
    {
      "cell_type": "markdown",
      "source": [
        "Task 2.2. Develop a NumPy program that constructs an array by repeating."
      ],
      "metadata": {
        "id": "hvtfKKwycmAc"
      }
    },
    {
      "cell_type": "code",
      "source": [
        "arr = [1,2,3,4]\n",
        "print(\"arr=\" , np.tile(arr,2))"
      ],
      "metadata": {
        "colab": {
          "base_uri": "https://localhost:8080/"
        },
        "id": "INqk43JEdK-P",
        "outputId": "32fc7f22-9463-44aa-8e90-88e31dc738c9"
      },
      "execution_count": 41,
      "outputs": [
        {
          "output_type": "stream",
          "name": "stdout",
          "text": [
            "arr= [1 2 3 4 1 2 3 4]\n"
          ]
        }
      ]
    },
    {
      "cell_type": "markdown",
      "source": [
        "Task 2.3. Develop a NumPy program to replace all elements of NumPy array that are greater \n",
        "than a specified array."
      ],
      "metadata": {
        "id": "1ZoZOlfxdzJr"
      }
    },
    {
      "cell_type": "code",
      "source": [
        "arr1 = [(0.42, 0.48, 0.32)]\n",
        "arr2 = [(0.74, 0.58, 0.38)]\n",
        "arr3 = [(0.51, 0.34, 0.15)]\n",
        "arr = np.array([arr1, arr2, arr3])\n",
        "print(np.matrix(arr), '\\n')\n",
        "\n",
        "arr[(arr > .5)] = .5\n",
        "print(np.matrix(arr))"
      ],
      "metadata": {
        "colab": {
          "base_uri": "https://localhost:8080/"
        },
        "id": "GZHQrq_DdzUy",
        "outputId": "5e5888d2-ac35-4d52-9bd0-5c71416b5a86"
      },
      "execution_count": 43,
      "outputs": [
        {
          "output_type": "stream",
          "name": "stdout",
          "text": [
            "[[0.42 0.48 0.32]\n",
            " [0.74 0.58 0.38]\n",
            " [0.51 0.34 0.15]] \n",
            "\n",
            "[[0.42 0.48 0.32]\n",
            " [0.5  0.5  0.38]\n",
            " [0.5  0.34 0.15]]\n"
          ]
        }
      ]
    }
  ]
}
